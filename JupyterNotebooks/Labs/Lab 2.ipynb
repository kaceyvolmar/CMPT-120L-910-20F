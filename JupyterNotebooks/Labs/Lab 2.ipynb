{
 "metadata": {
  "language_info": {
   "codemirror_mode": {
    "name": "ipython",
    "version": 3
   },
   "file_extension": ".py",
   "mimetype": "text/x-python",
   "name": "python",
   "nbconvert_exporter": "python",
   "pygments_lexer": "ipython3",
   "version": "3.8.5-final"
  },
  "orig_nbformat": 2,
  "kernelspec": {
   "name": "Python 3.8.5 64-bit",
   "display_name": "Python 3.8.5 64-bit",
   "metadata": {
    "interpreter": {
     "hash": "4cd7ab41f5fca4b9b44701077e38c5ffd31fe66a6cab21e0214b68d958d0e462"
    }
   }
  }
 },
 "nbformat": 4,
 "nbformat_minor": 2,
 "cells": [
  {
   "cell_type": "markdown",
   "metadata": {},
   "source": [
    "# Lab Two\n",
    "---\n",
    "\n",
    "For this lab we're going to get into logic\n",
    "\n",
    "Our Goals are:\n",
    "- Using Conditionals\n",
    "- Using Loops\n",
    "- Creating a Function\n",
    "- Using a Class"
   ]
  },
  {
   "cell_type": "code",
   "execution_count": 1,
   "metadata": {},
   "outputs": [
    {
     "output_type": "stream",
     "name": "stdout",
     "text": [
      "Your going shopping today!\n"
     ]
    }
   ],
   "source": [
    "# Create an if statement\n",
    "has_money = True \n",
    "no_money = False\n",
    "tired = True\n",
    "\n",
    "if has_money:\n",
    "    print(\"Your going shopping today!\")\n",
    "elif no_money and tired:\n",
    "    print(\"You can go on a walk.\")\n",
    "else:\n",
    "    print(\"Take a nap.\")\n",
    "    "
   ]
  },
  {
   "cell_type": "code",
   "execution_count": null,
   "metadata": {},
   "outputs": [],
   "source": [
    "# Create an if else statement"
   ]
  },
  {
   "cell_type": "code",
   "execution_count": null,
   "metadata": {},
   "outputs": [],
   "source": [
    "# Create an if elif else statement"
   ]
  },
  {
   "cell_type": "code",
   "execution_count": null,
   "metadata": {},
   "outputs": [],
   "source": [
    "# Create a for loop using range(). Go from 0 to 9. Print out each number.\n",
    "for value in range(10):\n",
    "    print(value)"
   ]
  },
  {
   "cell_type": "code",
   "execution_count": null,
   "metadata": {},
   "outputs": [],
   "source": [
    "# Create a for loop iterating through this list and printing out the value.\n",
    "arr = ['Blue', 'Yellow', 'Red', 'Green', 'Purple', 'Magenta', 'Lilac']\n",
    "\n",
    "for item in arr:\n",
    "    print(item)\n",
    "\n",
    "# Get the length of the list above and print it.\n",
    "print(len(arr))"
   ]
  },
  {
   "cell_type": "code",
   "execution_count": 1,
   "metadata": {},
   "outputs": [
    {
     "output_type": "stream",
     "name": "stdout",
     "text": [
      "['dog', 'cat', 'bird', 'fox', 'rabbit', 'turtle', 'horse']\n['dog', 'cat', 'bird', 'fox', 'rabbit', 'turtle', 'horse']\n['dog', 'cat', 'bird', 'fox', 'rabbit', 'turtle', 'horse']\n['dog', 'cat', 'bird', 'fox', 'rabbit', 'turtle', 'horse']\n['dog', 'cat', 'bird', 'fox', 'rabbit', 'turtle', 'horse']\n['dog', 'cat', 'bird', 'fox', 'rabbit', 'turtle', 'horse']\n7\n7\n"
     ]
    }
   ],
   "source": [
    "# Create a while loop that ends after 6 times through. Print something for each pass.\n",
    "animals = [\"dog\", \"cat\", \"bird\", \"fox\", \"rabbit\", \"turtle\", \"horse\"]\n",
    "counting = 0\n",
    "\n",
    "while counting < 6:\n",
    "    counting +=1\n",
    "    print(animals)\n",
    "    \n",
    "print(len(animals))\n",
    "\n",
    "# Get the length of the list above and print it.\n",
    "print(len(animals))\n"
   ]
  },
  {
   "cell_type": "code",
   "execution_count": 2,
   "metadata": {
    "tags": []
   },
   "outputs": [
    {
     "output_type": "stream",
     "name": "stdout",
     "text": "37\n10\n299.99\nTrue\n"
    }
   ],
   "source": [
    "# Create a function to add 2 numbers together. Print out the number"
   ]
  },
  {
   "cell_type": "code",
   "execution_count": null,
   "metadata": {},
   "outputs": [],
   "source": [
    "# Create a function that tells you if a number is odd or even and print the result.\n",
    "if (number%2) == 0:\n",
    "    print(number, \"is an even number\")\n",
    "else:\n",
    "    print(number, \"is an odd number\")"
   ]
  },
  {
   "cell_type": "code",
   "execution_count": 1,
   "metadata": {
    "tags": []
   },
   "outputs": [],
   "source": [
    "# Initialize an instance of the following class. Use a variable to store the object and then call the info function to print out the attributes.\n",
    "class Dog(object):\n",
    "    def __init__(self, name, height, weight, breed):\n",
    "        self.name = name\n",
    "        self.height = height\n",
    "        self.weight = weight\n",
    "        self.breed = breed\n",
    "\n",
    "    def info(self):\n",
    "        print(\"Name:\", self.name)\n",
    "        print(\"Weight:\", str(self.weight) + \" Pounds\")\n",
    "        print(\"Height:\", str(self.height) + \" Inches\")\n",
    "        print(\"Breed:\", self.breed)\n",
    "        \n",
    "    if __name__ == \"__main__\":\n",
    "    ollie = Dog(\"Ollie\", 22, 10, \"Corgi\")\n",
    "    ollie.info()"
   ]
  }
 ]
}