{
 "metadata": {
  "language_info": {
   "codemirror_mode": {
    "name": "ipython",
    "version": 3
   },
   "file_extension": ".py",
   "mimetype": "text/x-python",
   "name": "python",
   "nbconvert_exporter": "python",
   "pygments_lexer": "ipython3",
   "version": "3.8.5-final"
  },
  "orig_nbformat": 2,
  "kernelspec": {
   "name": "python3",
   "display_name": "Python 3",
   "language": "python"
  }
 },
 "nbformat": 4,
 "nbformat_minor": 2,
 "cells": [
  {
   "source": [
    "# Lab Four\n",
    "---\n",
    "\n",
    "For this lab we're going to be messing around with Markdown!\n",
    "\n",
    "Our Goals are:\n",
    "- Using Markdown!\n",
    "\n",
    "I want you to describe to me your process of converting the assignment and making it DRY. \n",
    "\n",
    "Please show the ability to:\n",
    "- Make a header\n",
    "- Make a list (ordered or unordered)\n",
    "- Link the Markdown Guide from the lesson. \n",
    "- Artuculate your thought process."
   ],
   "cell_type": "markdown",
   "metadata": {}
  },
  {
   "source": [
    "# Markdown - Assignment 5 Explained\n",
    "### Wet Code to Dry Code:\n",
    " \n",
    "My first if condition ran correctly, making the savings account come to the right amount. I could not figure out why my checkings account was not running correctly. I think it had something to do with not  picking up the negative numbers when I was running them through different variables but I am unaware how to fix the mistake. \n",
    "\n",
    "\n",
    "#### To Creeate the Code:\n",
    "1. I created a magic number for the percentages that were going into the checkings and savings accounts. \n",
    "2. I created a for loop to run through the items in the transactions list. \n",
    "3. I created conditionals to make the transactions go into the accounts they were supposed to. \n",
    "4. I copied the function you used in the wet code for the formatting and calling the function. \n",
    "\n",
    "\n",
    "#### Conditionals:\n",
    "- if\n",
    "- elif\n",
    "- else \n",
    "\n",
    "Markdown Guide: <https://www.markdownguide.org/>"
   ],
   "cell_type": "markdown",
   "metadata": {}
  }
 ]
}