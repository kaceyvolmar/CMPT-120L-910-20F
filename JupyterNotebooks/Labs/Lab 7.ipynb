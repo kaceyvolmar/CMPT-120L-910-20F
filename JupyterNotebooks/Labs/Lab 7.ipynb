{
 "metadata": {
  "language_info": {
   "codemirror_mode": {
    "name": "ipython",
    "version": 3
   },
   "file_extension": ".py",
   "mimetype": "text/x-python",
   "name": "python",
   "nbconvert_exporter": "python",
   "pygments_lexer": "ipython3",
   "version": "3.8.5-final"
  },
  "orig_nbformat": 2,
  "kernelspec": {
   "name": "python3",
   "display_name": "Python 3"
  }
 },
 "nbformat": 4,
 "nbformat_minor": 2,
 "cells": [
  {
   "cell_type": "code",
   "execution_count": 30,
   "metadata": {},
   "outputs": [
    {
     "output_type": "stream",
     "name": "stdout",
     "text": [
      "The weather out side is hot 🔥\nEven though it is November 😮\nWhatever, I'll go on a walk 🏃\n"
     ]
    }
   ],
   "source": [
    "import emoji\n",
    "print(emoji.emojize('The weather out side is hot :fire:'))\n",
    "print(emoji.emojize('Even though it is November :open_mouth:', use_aliases=True))\n",
    "print(emoji.emojize(\"Whatever, I'll go on a walk :runner:\", use_aliases=True))"
   ]
  },
  {
   "cell_type": "code",
   "execution_count": 42,
   "metadata": {},
   "outputs": [
    {
     "output_type": "stream",
     "name": "stdout",
     "text": [
      "This is my grandmother, she is :old_woman:\nThis cat is :grinning_cat_face:\nI would not have picked this title for this emoji :hear-no-evil_monkey:\n"
     ]
    }
   ],
   "source": [
    "print(emoji.demojize('This is my grandmother, she is 👵'))\n",
    "print(emoji.demojize('This cat is 😺'))\n",
    "print(emoji.demojize('I would not have picked this title for this emoji 🙉')) "
   ]
  }
 ]
}